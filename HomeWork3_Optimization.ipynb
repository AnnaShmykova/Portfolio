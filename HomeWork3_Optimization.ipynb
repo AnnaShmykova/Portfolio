{
  "nbformat": 4,
  "nbformat_minor": 0,
  "metadata": {
    "colab": {
      "provenance": []
    },
    "kernelspec": {
      "name": "python3",
      "display_name": "Python 3"
    },
    "language_info": {
      "name": "python"
    },
    "widgets": {
      "application/vnd.jupyter.widget-state+json": {
        "ff582901a0f64327912c9ba21b0028be": {
          "model_module": "@jupyter-widgets/controls",
          "model_name": "HBoxModel",
          "model_module_version": "1.5.0",
          "state": {
            "_dom_classes": [],
            "_model_module": "@jupyter-widgets/controls",
            "_model_module_version": "1.5.0",
            "_model_name": "HBoxModel",
            "_view_count": null,
            "_view_module": "@jupyter-widgets/controls",
            "_view_module_version": "1.5.0",
            "_view_name": "HBoxView",
            "box_style": "",
            "children": [
              "IPY_MODEL_cea6695a7b89477a8259889475ed0735",
              "IPY_MODEL_71185a6312ea42dda8861a2df05b748b",
              "IPY_MODEL_7d6e3674cc2c49ee8b63c806b09683a0"
            ],
            "layout": "IPY_MODEL_65ac2859ce6c4b979abbc147c3616c7e"
          }
        },
        "cea6695a7b89477a8259889475ed0735": {
          "model_module": "@jupyter-widgets/controls",
          "model_name": "HTMLModel",
          "model_module_version": "1.5.0",
          "state": {
            "_dom_classes": [],
            "_model_module": "@jupyter-widgets/controls",
            "_model_module_version": "1.5.0",
            "_model_name": "HTMLModel",
            "_view_count": null,
            "_view_module": "@jupyter-widgets/controls",
            "_view_module_version": "1.5.0",
            "_view_name": "HTMLView",
            "description": "",
            "description_tooltip": null,
            "layout": "IPY_MODEL_81eaa298d7674fd3846494f5882d3d7c",
            "placeholder": "​",
            "style": "IPY_MODEL_4a5ac678c61f404ba91dc43098ba5274",
            "value": "100%"
          }
        },
        "71185a6312ea42dda8861a2df05b748b": {
          "model_module": "@jupyter-widgets/controls",
          "model_name": "FloatProgressModel",
          "model_module_version": "1.5.0",
          "state": {
            "_dom_classes": [],
            "_model_module": "@jupyter-widgets/controls",
            "_model_module_version": "1.5.0",
            "_model_name": "FloatProgressModel",
            "_view_count": null,
            "_view_module": "@jupyter-widgets/controls",
            "_view_module_version": "1.5.0",
            "_view_name": "ProgressView",
            "bar_style": "success",
            "description": "",
            "description_tooltip": null,
            "layout": "IPY_MODEL_a499d14d6d0e4a2fb078e96adc43ffbd",
            "max": 150,
            "min": 0,
            "orientation": "horizontal",
            "style": "IPY_MODEL_ef040e43e12d4363b7078f0875a375c5",
            "value": 150
          }
        },
        "7d6e3674cc2c49ee8b63c806b09683a0": {
          "model_module": "@jupyter-widgets/controls",
          "model_name": "HTMLModel",
          "model_module_version": "1.5.0",
          "state": {
            "_dom_classes": [],
            "_model_module": "@jupyter-widgets/controls",
            "_model_module_version": "1.5.0",
            "_model_name": "HTMLModel",
            "_view_count": null,
            "_view_module": "@jupyter-widgets/controls",
            "_view_module_version": "1.5.0",
            "_view_name": "HTMLView",
            "description": "",
            "description_tooltip": null,
            "layout": "IPY_MODEL_62c11c23314744ef9a7da04cc793f460",
            "placeholder": "​",
            "style": "IPY_MODEL_716bac00bb5d4c69b4f06bec4f9e51e1",
            "value": " 150/150 [00:00&lt;00:00, 3840.16it/s]"
          }
        },
        "65ac2859ce6c4b979abbc147c3616c7e": {
          "model_module": "@jupyter-widgets/base",
          "model_name": "LayoutModel",
          "model_module_version": "1.2.0",
          "state": {
            "_model_module": "@jupyter-widgets/base",
            "_model_module_version": "1.2.0",
            "_model_name": "LayoutModel",
            "_view_count": null,
            "_view_module": "@jupyter-widgets/base",
            "_view_module_version": "1.2.0",
            "_view_name": "LayoutView",
            "align_content": null,
            "align_items": null,
            "align_self": null,
            "border": null,
            "bottom": null,
            "display": null,
            "flex": null,
            "flex_flow": null,
            "grid_area": null,
            "grid_auto_columns": null,
            "grid_auto_flow": null,
            "grid_auto_rows": null,
            "grid_column": null,
            "grid_gap": null,
            "grid_row": null,
            "grid_template_areas": null,
            "grid_template_columns": null,
            "grid_template_rows": null,
            "height": null,
            "justify_content": null,
            "justify_items": null,
            "left": null,
            "margin": null,
            "max_height": null,
            "max_width": null,
            "min_height": null,
            "min_width": null,
            "object_fit": null,
            "object_position": null,
            "order": null,
            "overflow": null,
            "overflow_x": null,
            "overflow_y": null,
            "padding": null,
            "right": null,
            "top": null,
            "visibility": null,
            "width": null
          }
        },
        "81eaa298d7674fd3846494f5882d3d7c": {
          "model_module": "@jupyter-widgets/base",
          "model_name": "LayoutModel",
          "model_module_version": "1.2.0",
          "state": {
            "_model_module": "@jupyter-widgets/base",
            "_model_module_version": "1.2.0",
            "_model_name": "LayoutModel",
            "_view_count": null,
            "_view_module": "@jupyter-widgets/base",
            "_view_module_version": "1.2.0",
            "_view_name": "LayoutView",
            "align_content": null,
            "align_items": null,
            "align_self": null,
            "border": null,
            "bottom": null,
            "display": null,
            "flex": null,
            "flex_flow": null,
            "grid_area": null,
            "grid_auto_columns": null,
            "grid_auto_flow": null,
            "grid_auto_rows": null,
            "grid_column": null,
            "grid_gap": null,
            "grid_row": null,
            "grid_template_areas": null,
            "grid_template_columns": null,
            "grid_template_rows": null,
            "height": null,
            "justify_content": null,
            "justify_items": null,
            "left": null,
            "margin": null,
            "max_height": null,
            "max_width": null,
            "min_height": null,
            "min_width": null,
            "object_fit": null,
            "object_position": null,
            "order": null,
            "overflow": null,
            "overflow_x": null,
            "overflow_y": null,
            "padding": null,
            "right": null,
            "top": null,
            "visibility": null,
            "width": null
          }
        },
        "4a5ac678c61f404ba91dc43098ba5274": {
          "model_module": "@jupyter-widgets/controls",
          "model_name": "DescriptionStyleModel",
          "model_module_version": "1.5.0",
          "state": {
            "_model_module": "@jupyter-widgets/controls",
            "_model_module_version": "1.5.0",
            "_model_name": "DescriptionStyleModel",
            "_view_count": null,
            "_view_module": "@jupyter-widgets/base",
            "_view_module_version": "1.2.0",
            "_view_name": "StyleView",
            "description_width": ""
          }
        },
        "a499d14d6d0e4a2fb078e96adc43ffbd": {
          "model_module": "@jupyter-widgets/base",
          "model_name": "LayoutModel",
          "model_module_version": "1.2.0",
          "state": {
            "_model_module": "@jupyter-widgets/base",
            "_model_module_version": "1.2.0",
            "_model_name": "LayoutModel",
            "_view_count": null,
            "_view_module": "@jupyter-widgets/base",
            "_view_module_version": "1.2.0",
            "_view_name": "LayoutView",
            "align_content": null,
            "align_items": null,
            "align_self": null,
            "border": null,
            "bottom": null,
            "display": null,
            "flex": null,
            "flex_flow": null,
            "grid_area": null,
            "grid_auto_columns": null,
            "grid_auto_flow": null,
            "grid_auto_rows": null,
            "grid_column": null,
            "grid_gap": null,
            "grid_row": null,
            "grid_template_areas": null,
            "grid_template_columns": null,
            "grid_template_rows": null,
            "height": null,
            "justify_content": null,
            "justify_items": null,
            "left": null,
            "margin": null,
            "max_height": null,
            "max_width": null,
            "min_height": null,
            "min_width": null,
            "object_fit": null,
            "object_position": null,
            "order": null,
            "overflow": null,
            "overflow_x": null,
            "overflow_y": null,
            "padding": null,
            "right": null,
            "top": null,
            "visibility": null,
            "width": null
          }
        },
        "ef040e43e12d4363b7078f0875a375c5": {
          "model_module": "@jupyter-widgets/controls",
          "model_name": "ProgressStyleModel",
          "model_module_version": "1.5.0",
          "state": {
            "_model_module": "@jupyter-widgets/controls",
            "_model_module_version": "1.5.0",
            "_model_name": "ProgressStyleModel",
            "_view_count": null,
            "_view_module": "@jupyter-widgets/base",
            "_view_module_version": "1.2.0",
            "_view_name": "StyleView",
            "bar_color": null,
            "description_width": ""
          }
        },
        "62c11c23314744ef9a7da04cc793f460": {
          "model_module": "@jupyter-widgets/base",
          "model_name": "LayoutModel",
          "model_module_version": "1.2.0",
          "state": {
            "_model_module": "@jupyter-widgets/base",
            "_model_module_version": "1.2.0",
            "_model_name": "LayoutModel",
            "_view_count": null,
            "_view_module": "@jupyter-widgets/base",
            "_view_module_version": "1.2.0",
            "_view_name": "LayoutView",
            "align_content": null,
            "align_items": null,
            "align_self": null,
            "border": null,
            "bottom": null,
            "display": null,
            "flex": null,
            "flex_flow": null,
            "grid_area": null,
            "grid_auto_columns": null,
            "grid_auto_flow": null,
            "grid_auto_rows": null,
            "grid_column": null,
            "grid_gap": null,
            "grid_row": null,
            "grid_template_areas": null,
            "grid_template_columns": null,
            "grid_template_rows": null,
            "height": null,
            "justify_content": null,
            "justify_items": null,
            "left": null,
            "margin": null,
            "max_height": null,
            "max_width": null,
            "min_height": null,
            "min_width": null,
            "object_fit": null,
            "object_position": null,
            "order": null,
            "overflow": null,
            "overflow_x": null,
            "overflow_y": null,
            "padding": null,
            "right": null,
            "top": null,
            "visibility": null,
            "width": null
          }
        },
        "716bac00bb5d4c69b4f06bec4f9e51e1": {
          "model_module": "@jupyter-widgets/controls",
          "model_name": "DescriptionStyleModel",
          "model_module_version": "1.5.0",
          "state": {
            "_model_module": "@jupyter-widgets/controls",
            "_model_module_version": "1.5.0",
            "_model_name": "DescriptionStyleModel",
            "_view_count": null,
            "_view_module": "@jupyter-widgets/base",
            "_view_module_version": "1.2.0",
            "_view_name": "StyleView",
            "description_width": ""
          }
        },
        "3fa7835db40546fdb9dc1a1e911e7c47": {
          "model_module": "@jupyter-widgets/controls",
          "model_name": "HBoxModel",
          "model_module_version": "1.5.0",
          "state": {
            "_dom_classes": [],
            "_model_module": "@jupyter-widgets/controls",
            "_model_module_version": "1.5.0",
            "_model_name": "HBoxModel",
            "_view_count": null,
            "_view_module": "@jupyter-widgets/controls",
            "_view_module_version": "1.5.0",
            "_view_name": "HBoxView",
            "box_style": "",
            "children": [
              "IPY_MODEL_37680baa2f6c4ff3aac5b882616e190c",
              "IPY_MODEL_ddd51d8ede1a46029fcb67348215a3c2",
              "IPY_MODEL_640ea0f46be14ef1a8fd4808d7497102"
            ],
            "layout": "IPY_MODEL_3767841ba4a74b5589117fc266ff1887"
          }
        },
        "37680baa2f6c4ff3aac5b882616e190c": {
          "model_module": "@jupyter-widgets/controls",
          "model_name": "HTMLModel",
          "model_module_version": "1.5.0",
          "state": {
            "_dom_classes": [],
            "_model_module": "@jupyter-widgets/controls",
            "_model_module_version": "1.5.0",
            "_model_name": "HTMLModel",
            "_view_count": null,
            "_view_module": "@jupyter-widgets/controls",
            "_view_module_version": "1.5.0",
            "_view_name": "HTMLView",
            "description": "",
            "description_tooltip": null,
            "layout": "IPY_MODEL_98336d479f954227a2ed08b053e30bb9",
            "placeholder": "​",
            "style": "IPY_MODEL_c8ec1f44dbca4560b1b6a5799a466219",
            "value": " 84%"
          }
        },
        "ddd51d8ede1a46029fcb67348215a3c2": {
          "model_module": "@jupyter-widgets/controls",
          "model_name": "FloatProgressModel",
          "model_module_version": "1.5.0",
          "state": {
            "_dom_classes": [],
            "_model_module": "@jupyter-widgets/controls",
            "_model_module_version": "1.5.0",
            "_model_name": "FloatProgressModel",
            "_view_count": null,
            "_view_module": "@jupyter-widgets/controls",
            "_view_module_version": "1.5.0",
            "_view_name": "ProgressView",
            "bar_style": "danger",
            "description": "",
            "description_tooltip": null,
            "layout": "IPY_MODEL_2544615be7ba42288e989f73f231a79d",
            "max": 50,
            "min": 0,
            "orientation": "horizontal",
            "style": "IPY_MODEL_63bc506863364316bbb04704dd86215e",
            "value": 42
          }
        },
        "640ea0f46be14ef1a8fd4808d7497102": {
          "model_module": "@jupyter-widgets/controls",
          "model_name": "HTMLModel",
          "model_module_version": "1.5.0",
          "state": {
            "_dom_classes": [],
            "_model_module": "@jupyter-widgets/controls",
            "_model_module_version": "1.5.0",
            "_model_name": "HTMLModel",
            "_view_count": null,
            "_view_module": "@jupyter-widgets/controls",
            "_view_module_version": "1.5.0",
            "_view_name": "HTMLView",
            "description": "",
            "description_tooltip": null,
            "layout": "IPY_MODEL_29ea52002077455e96ae263e985abfda",
            "placeholder": "​",
            "style": "IPY_MODEL_1908abe8dfd444859f5c126dc76b5dcb",
            "value": " 42/50 [00:00&lt;00:00, 1188.65it/s]"
          }
        },
        "3767841ba4a74b5589117fc266ff1887": {
          "model_module": "@jupyter-widgets/base",
          "model_name": "LayoutModel",
          "model_module_version": "1.2.0",
          "state": {
            "_model_module": "@jupyter-widgets/base",
            "_model_module_version": "1.2.0",
            "_model_name": "LayoutModel",
            "_view_count": null,
            "_view_module": "@jupyter-widgets/base",
            "_view_module_version": "1.2.0",
            "_view_name": "LayoutView",
            "align_content": null,
            "align_items": null,
            "align_self": null,
            "border": null,
            "bottom": null,
            "display": null,
            "flex": null,
            "flex_flow": null,
            "grid_area": null,
            "grid_auto_columns": null,
            "grid_auto_flow": null,
            "grid_auto_rows": null,
            "grid_column": null,
            "grid_gap": null,
            "grid_row": null,
            "grid_template_areas": null,
            "grid_template_columns": null,
            "grid_template_rows": null,
            "height": null,
            "justify_content": null,
            "justify_items": null,
            "left": null,
            "margin": null,
            "max_height": null,
            "max_width": null,
            "min_height": null,
            "min_width": null,
            "object_fit": null,
            "object_position": null,
            "order": null,
            "overflow": null,
            "overflow_x": null,
            "overflow_y": null,
            "padding": null,
            "right": null,
            "top": null,
            "visibility": null,
            "width": null
          }
        },
        "98336d479f954227a2ed08b053e30bb9": {
          "model_module": "@jupyter-widgets/base",
          "model_name": "LayoutModel",
          "model_module_version": "1.2.0",
          "state": {
            "_model_module": "@jupyter-widgets/base",
            "_model_module_version": "1.2.0",
            "_model_name": "LayoutModel",
            "_view_count": null,
            "_view_module": "@jupyter-widgets/base",
            "_view_module_version": "1.2.0",
            "_view_name": "LayoutView",
            "align_content": null,
            "align_items": null,
            "align_self": null,
            "border": null,
            "bottom": null,
            "display": null,
            "flex": null,
            "flex_flow": null,
            "grid_area": null,
            "grid_auto_columns": null,
            "grid_auto_flow": null,
            "grid_auto_rows": null,
            "grid_column": null,
            "grid_gap": null,
            "grid_row": null,
            "grid_template_areas": null,
            "grid_template_columns": null,
            "grid_template_rows": null,
            "height": null,
            "justify_content": null,
            "justify_items": null,
            "left": null,
            "margin": null,
            "max_height": null,
            "max_width": null,
            "min_height": null,
            "min_width": null,
            "object_fit": null,
            "object_position": null,
            "order": null,
            "overflow": null,
            "overflow_x": null,
            "overflow_y": null,
            "padding": null,
            "right": null,
            "top": null,
            "visibility": null,
            "width": null
          }
        },
        "c8ec1f44dbca4560b1b6a5799a466219": {
          "model_module": "@jupyter-widgets/controls",
          "model_name": "DescriptionStyleModel",
          "model_module_version": "1.5.0",
          "state": {
            "_model_module": "@jupyter-widgets/controls",
            "_model_module_version": "1.5.0",
            "_model_name": "DescriptionStyleModel",
            "_view_count": null,
            "_view_module": "@jupyter-widgets/base",
            "_view_module_version": "1.2.0",
            "_view_name": "StyleView",
            "description_width": ""
          }
        },
        "2544615be7ba42288e989f73f231a79d": {
          "model_module": "@jupyter-widgets/base",
          "model_name": "LayoutModel",
          "model_module_version": "1.2.0",
          "state": {
            "_model_module": "@jupyter-widgets/base",
            "_model_module_version": "1.2.0",
            "_model_name": "LayoutModel",
            "_view_count": null,
            "_view_module": "@jupyter-widgets/base",
            "_view_module_version": "1.2.0",
            "_view_name": "LayoutView",
            "align_content": null,
            "align_items": null,
            "align_self": null,
            "border": null,
            "bottom": null,
            "display": null,
            "flex": null,
            "flex_flow": null,
            "grid_area": null,
            "grid_auto_columns": null,
            "grid_auto_flow": null,
            "grid_auto_rows": null,
            "grid_column": null,
            "grid_gap": null,
            "grid_row": null,
            "grid_template_areas": null,
            "grid_template_columns": null,
            "grid_template_rows": null,
            "height": null,
            "justify_content": null,
            "justify_items": null,
            "left": null,
            "margin": null,
            "max_height": null,
            "max_width": null,
            "min_height": null,
            "min_width": null,
            "object_fit": null,
            "object_position": null,
            "order": null,
            "overflow": null,
            "overflow_x": null,
            "overflow_y": null,
            "padding": null,
            "right": null,
            "top": null,
            "visibility": null,
            "width": null
          }
        },
        "63bc506863364316bbb04704dd86215e": {
          "model_module": "@jupyter-widgets/controls",
          "model_name": "ProgressStyleModel",
          "model_module_version": "1.5.0",
          "state": {
            "_model_module": "@jupyter-widgets/controls",
            "_model_module_version": "1.5.0",
            "_model_name": "ProgressStyleModel",
            "_view_count": null,
            "_view_module": "@jupyter-widgets/base",
            "_view_module_version": "1.2.0",
            "_view_name": "StyleView",
            "bar_color": null,
            "description_width": ""
          }
        },
        "29ea52002077455e96ae263e985abfda": {
          "model_module": "@jupyter-widgets/base",
          "model_name": "LayoutModel",
          "model_module_version": "1.2.0",
          "state": {
            "_model_module": "@jupyter-widgets/base",
            "_model_module_version": "1.2.0",
            "_model_name": "LayoutModel",
            "_view_count": null,
            "_view_module": "@jupyter-widgets/base",
            "_view_module_version": "1.2.0",
            "_view_name": "LayoutView",
            "align_content": null,
            "align_items": null,
            "align_self": null,
            "border": null,
            "bottom": null,
            "display": null,
            "flex": null,
            "flex_flow": null,
            "grid_area": null,
            "grid_auto_columns": null,
            "grid_auto_flow": null,
            "grid_auto_rows": null,
            "grid_column": null,
            "grid_gap": null,
            "grid_row": null,
            "grid_template_areas": null,
            "grid_template_columns": null,
            "grid_template_rows": null,
            "height": null,
            "justify_content": null,
            "justify_items": null,
            "left": null,
            "margin": null,
            "max_height": null,
            "max_width": null,
            "min_height": null,
            "min_width": null,
            "object_fit": null,
            "object_position": null,
            "order": null,
            "overflow": null,
            "overflow_x": null,
            "overflow_y": null,
            "padding": null,
            "right": null,
            "top": null,
            "visibility": null,
            "width": null
          }
        },
        "1908abe8dfd444859f5c126dc76b5dcb": {
          "model_module": "@jupyter-widgets/controls",
          "model_name": "DescriptionStyleModel",
          "model_module_version": "1.5.0",
          "state": {
            "_model_module": "@jupyter-widgets/controls",
            "_model_module_version": "1.5.0",
            "_model_name": "DescriptionStyleModel",
            "_view_count": null,
            "_view_module": "@jupyter-widgets/base",
            "_view_module_version": "1.2.0",
            "_view_name": "StyleView",
            "description_width": ""
          }
        },
        "767a177d682d47f59a085441b3f4b05f": {
          "model_module": "@jupyter-widgets/controls",
          "model_name": "HBoxModel",
          "model_module_version": "1.5.0",
          "state": {
            "_dom_classes": [],
            "_model_module": "@jupyter-widgets/controls",
            "_model_module_version": "1.5.0",
            "_model_name": "HBoxModel",
            "_view_count": null,
            "_view_module": "@jupyter-widgets/controls",
            "_view_module_version": "1.5.0",
            "_view_name": "HBoxView",
            "box_style": "",
            "children": [
              "IPY_MODEL_c5223cdc7df64d02ba18299f72c43449",
              "IPY_MODEL_9114e7fce6484c298ecbc1a4243ae59a",
              "IPY_MODEL_cf99dd94bbc84c1c8da004dc3581d6be"
            ],
            "layout": "IPY_MODEL_b8ea440d6e0c4e9f98e6500cb6f661c6"
          }
        },
        "c5223cdc7df64d02ba18299f72c43449": {
          "model_module": "@jupyter-widgets/controls",
          "model_name": "HTMLModel",
          "model_module_version": "1.5.0",
          "state": {
            "_dom_classes": [],
            "_model_module": "@jupyter-widgets/controls",
            "_model_module_version": "1.5.0",
            "_model_name": "HTMLModel",
            "_view_count": null,
            "_view_module": "@jupyter-widgets/controls",
            "_view_module_version": "1.5.0",
            "_view_name": "HTMLView",
            "description": "",
            "description_tooltip": null,
            "layout": "IPY_MODEL_5a3a5cb973484665900200f68c0281dd",
            "placeholder": "​",
            "style": "IPY_MODEL_20cb9f0b658d4ca598a1b8d3fd5a3a22",
            "value": " 92%"
          }
        },
        "9114e7fce6484c298ecbc1a4243ae59a": {
          "model_module": "@jupyter-widgets/controls",
          "model_name": "FloatProgressModel",
          "model_module_version": "1.5.0",
          "state": {
            "_dom_classes": [],
            "_model_module": "@jupyter-widgets/controls",
            "_model_module_version": "1.5.0",
            "_model_name": "FloatProgressModel",
            "_view_count": null,
            "_view_module": "@jupyter-widgets/controls",
            "_view_module_version": "1.5.0",
            "_view_name": "ProgressView",
            "bar_style": "danger",
            "description": "",
            "description_tooltip": null,
            "layout": "IPY_MODEL_c3c633191fa74c2696d4d1b41979b831",
            "max": 40,
            "min": 0,
            "orientation": "horizontal",
            "style": "IPY_MODEL_fe2ea0ff9d894cca8d58f0c577b8abec",
            "value": 37
          }
        },
        "cf99dd94bbc84c1c8da004dc3581d6be": {
          "model_module": "@jupyter-widgets/controls",
          "model_name": "HTMLModel",
          "model_module_version": "1.5.0",
          "state": {
            "_dom_classes": [],
            "_model_module": "@jupyter-widgets/controls",
            "_model_module_version": "1.5.0",
            "_model_name": "HTMLModel",
            "_view_count": null,
            "_view_module": "@jupyter-widgets/controls",
            "_view_module_version": "1.5.0",
            "_view_name": "HTMLView",
            "description": "",
            "description_tooltip": null,
            "layout": "IPY_MODEL_f37b71cd043c4e83a2d190505df05670",
            "placeholder": "​",
            "style": "IPY_MODEL_95177a626e134c5db77ecb5580d4d1ae",
            "value": " 37/40 [00:00&lt;00:00, 1398.61it/s]"
          }
        },
        "b8ea440d6e0c4e9f98e6500cb6f661c6": {
          "model_module": "@jupyter-widgets/base",
          "model_name": "LayoutModel",
          "model_module_version": "1.2.0",
          "state": {
            "_model_module": "@jupyter-widgets/base",
            "_model_module_version": "1.2.0",
            "_model_name": "LayoutModel",
            "_view_count": null,
            "_view_module": "@jupyter-widgets/base",
            "_view_module_version": "1.2.0",
            "_view_name": "LayoutView",
            "align_content": null,
            "align_items": null,
            "align_self": null,
            "border": null,
            "bottom": null,
            "display": null,
            "flex": null,
            "flex_flow": null,
            "grid_area": null,
            "grid_auto_columns": null,
            "grid_auto_flow": null,
            "grid_auto_rows": null,
            "grid_column": null,
            "grid_gap": null,
            "grid_row": null,
            "grid_template_areas": null,
            "grid_template_columns": null,
            "grid_template_rows": null,
            "height": null,
            "justify_content": null,
            "justify_items": null,
            "left": null,
            "margin": null,
            "max_height": null,
            "max_width": null,
            "min_height": null,
            "min_width": null,
            "object_fit": null,
            "object_position": null,
            "order": null,
            "overflow": null,
            "overflow_x": null,
            "overflow_y": null,
            "padding": null,
            "right": null,
            "top": null,
            "visibility": null,
            "width": null
          }
        },
        "5a3a5cb973484665900200f68c0281dd": {
          "model_module": "@jupyter-widgets/base",
          "model_name": "LayoutModel",
          "model_module_version": "1.2.0",
          "state": {
            "_model_module": "@jupyter-widgets/base",
            "_model_module_version": "1.2.0",
            "_model_name": "LayoutModel",
            "_view_count": null,
            "_view_module": "@jupyter-widgets/base",
            "_view_module_version": "1.2.0",
            "_view_name": "LayoutView",
            "align_content": null,
            "align_items": null,
            "align_self": null,
            "border": null,
            "bottom": null,
            "display": null,
            "flex": null,
            "flex_flow": null,
            "grid_area": null,
            "grid_auto_columns": null,
            "grid_auto_flow": null,
            "grid_auto_rows": null,
            "grid_column": null,
            "grid_gap": null,
            "grid_row": null,
            "grid_template_areas": null,
            "grid_template_columns": null,
            "grid_template_rows": null,
            "height": null,
            "justify_content": null,
            "justify_items": null,
            "left": null,
            "margin": null,
            "max_height": null,
            "max_width": null,
            "min_height": null,
            "min_width": null,
            "object_fit": null,
            "object_position": null,
            "order": null,
            "overflow": null,
            "overflow_x": null,
            "overflow_y": null,
            "padding": null,
            "right": null,
            "top": null,
            "visibility": null,
            "width": null
          }
        },
        "20cb9f0b658d4ca598a1b8d3fd5a3a22": {
          "model_module": "@jupyter-widgets/controls",
          "model_name": "DescriptionStyleModel",
          "model_module_version": "1.5.0",
          "state": {
            "_model_module": "@jupyter-widgets/controls",
            "_model_module_version": "1.5.0",
            "_model_name": "DescriptionStyleModel",
            "_view_count": null,
            "_view_module": "@jupyter-widgets/base",
            "_view_module_version": "1.2.0",
            "_view_name": "StyleView",
            "description_width": ""
          }
        },
        "c3c633191fa74c2696d4d1b41979b831": {
          "model_module": "@jupyter-widgets/base",
          "model_name": "LayoutModel",
          "model_module_version": "1.2.0",
          "state": {
            "_model_module": "@jupyter-widgets/base",
            "_model_module_version": "1.2.0",
            "_model_name": "LayoutModel",
            "_view_count": null,
            "_view_module": "@jupyter-widgets/base",
            "_view_module_version": "1.2.0",
            "_view_name": "LayoutView",
            "align_content": null,
            "align_items": null,
            "align_self": null,
            "border": null,
            "bottom": null,
            "display": null,
            "flex": null,
            "flex_flow": null,
            "grid_area": null,
            "grid_auto_columns": null,
            "grid_auto_flow": null,
            "grid_auto_rows": null,
            "grid_column": null,
            "grid_gap": null,
            "grid_row": null,
            "grid_template_areas": null,
            "grid_template_columns": null,
            "grid_template_rows": null,
            "height": null,
            "justify_content": null,
            "justify_items": null,
            "left": null,
            "margin": null,
            "max_height": null,
            "max_width": null,
            "min_height": null,
            "min_width": null,
            "object_fit": null,
            "object_position": null,
            "order": null,
            "overflow": null,
            "overflow_x": null,
            "overflow_y": null,
            "padding": null,
            "right": null,
            "top": null,
            "visibility": null,
            "width": null
          }
        },
        "fe2ea0ff9d894cca8d58f0c577b8abec": {
          "model_module": "@jupyter-widgets/controls",
          "model_name": "ProgressStyleModel",
          "model_module_version": "1.5.0",
          "state": {
            "_model_module": "@jupyter-widgets/controls",
            "_model_module_version": "1.5.0",
            "_model_name": "ProgressStyleModel",
            "_view_count": null,
            "_view_module": "@jupyter-widgets/base",
            "_view_module_version": "1.2.0",
            "_view_name": "StyleView",
            "bar_color": null,
            "description_width": ""
          }
        },
        "f37b71cd043c4e83a2d190505df05670": {
          "model_module": "@jupyter-widgets/base",
          "model_name": "LayoutModel",
          "model_module_version": "1.2.0",
          "state": {
            "_model_module": "@jupyter-widgets/base",
            "_model_module_version": "1.2.0",
            "_model_name": "LayoutModel",
            "_view_count": null,
            "_view_module": "@jupyter-widgets/base",
            "_view_module_version": "1.2.0",
            "_view_name": "LayoutView",
            "align_content": null,
            "align_items": null,
            "align_self": null,
            "border": null,
            "bottom": null,
            "display": null,
            "flex": null,
            "flex_flow": null,
            "grid_area": null,
            "grid_auto_columns": null,
            "grid_auto_flow": null,
            "grid_auto_rows": null,
            "grid_column": null,
            "grid_gap": null,
            "grid_row": null,
            "grid_template_areas": null,
            "grid_template_columns": null,
            "grid_template_rows": null,
            "height": null,
            "justify_content": null,
            "justify_items": null,
            "left": null,
            "margin": null,
            "max_height": null,
            "max_width": null,
            "min_height": null,
            "min_width": null,
            "object_fit": null,
            "object_position": null,
            "order": null,
            "overflow": null,
            "overflow_x": null,
            "overflow_y": null,
            "padding": null,
            "right": null,
            "top": null,
            "visibility": null,
            "width": null
          }
        },
        "95177a626e134c5db77ecb5580d4d1ae": {
          "model_module": "@jupyter-widgets/controls",
          "model_name": "DescriptionStyleModel",
          "model_module_version": "1.5.0",
          "state": {
            "_model_module": "@jupyter-widgets/controls",
            "_model_module_version": "1.5.0",
            "_model_name": "DescriptionStyleModel",
            "_view_count": null,
            "_view_module": "@jupyter-widgets/base",
            "_view_module_version": "1.2.0",
            "_view_name": "StyleView",
            "description_width": ""
          }
        }
      }
    }
  },
  "cells": [
    {
      "cell_type": "markdown",
      "source": [
        "# Домашняя работа 3\n",
        "## Математическая оптимизация\n",
        "\n",
        "В этом домашнем задании вам предстоит найти минимум функции используя метод `RMSProp`."
      ],
      "metadata": {
        "id": "kwXU7hVIpOA0"
      }
    },
    {
      "cell_type": "markdown",
      "source": [
        "### Вам дана функция $y(x) = x^{3} \\ln(x)$\n",
        "\n",
        "1. Выпишите вид производной этой функции ($y'(x)$). (можно сделать это в виде latex кода, добавления картинки или записью кода python)\n",
        "\n",
        "    $y'(x) = 3 \\ x^{2} \\ ln(x) + x^{2}$"
      ],
      "metadata": {
        "id": "xZgZLxjyp2r-"
      }
    },
    {
      "cell_type": "markdown",
      "source": [
        "2. Реализуйте функцию `dy(...)` в ячейке ниже, которая на вход принимает $x_0$, а на выходе возвращает значение производной функции $y(x)$ в точке $x_0$ (то есть $y'(x_0)$)."
      ],
      "metadata": {
        "id": "Dkx3W3birlf_"
      }
    },
    {
      "cell_type": "code",
      "source": [
        "import numpy as np\n",
        "import matplotlib.pyplot as plt\n",
        "\n",
        "from tqdm.notebook import tqdm\n",
        "\n",
        "def dy(x0):\n",
        "    \"\"\"\n",
        "    Реализуйте функцию\n",
        "    \"\"\"\n",
        "    return 3 * (x0 ** 2) * np.log(x0) + x0 ** 2\n",
        "\n",
        "print(dy(1))"
      ],
      "metadata": {
        "id": "Laaw8J2mpzYG",
        "colab": {
          "base_uri": "https://localhost:8080/"
        },
        "outputId": "23059d65-ce7e-4772-a9d3-18c3bafe0332"
      },
      "execution_count": null,
      "outputs": [
        {
          "output_type": "stream",
          "name": "stdout",
          "text": [
            "1.0\n"
          ]
        }
      ]
    },
    {
      "cell_type": "markdown",
      "source": [
        "3. Реализуйте функцию `get_min_with_gd(...)`, которая принимает на вход начальную точку $x_0$, число шагов, lr и thershold; внутри себя производит поиск минимума при помощи градиентного спуска и возвращает последовательность точек, полученных на каждом шаге."
      ],
      "metadata": {
        "id": "jr4sqAR3ryLb"
      }
    },
    {
      "cell_type": "code",
      "source": [
        "def get_min_with_gd(x0, func_grad, n_iter=150, lr=0.01, threshold=0.001):\n",
        "    \"\"\"\n",
        "    Реализуйте функцию\n",
        "    \"\"\"\n",
        "    w = x0\n",
        "    history = [w]\n",
        "\n",
        "    for iter_number in tqdm(range(n_iter)):\n",
        "        # Вычисляем градиент в текущей точке\n",
        "        grad = func_grad(w)\n",
        "\n",
        "        # Итерация градиентного спуска\n",
        "        w = w - lr * grad / np.linalg.norm(grad)\n",
        "        \n",
        "        # Сохраняем новые аргументы в историяю\n",
        "        history.append(w)\n",
        "\n",
        "        # Критерий остановки -- вектор весов меняется не достаточно сильно\n",
        "        if np.mean(abs(w - history[-2])) < threshold:\n",
        "            break\n",
        "\n",
        "    return np.array(history) "
      ],
      "metadata": {
        "id": "l8ls4dWrsD5o"
      },
      "execution_count": null,
      "outputs": []
    },
    {
      "cell_type": "code",
      "source": [
        "# Запустите поиск минимума с любой точки, например с точки 10\n",
        "\n",
        "history = get_min_with_gd(10, dy)"
      ],
      "metadata": {
        "id": "CVtHzyFMsW4J",
        "colab": {
          "base_uri": "https://localhost:8080/",
          "height": 49,
          "referenced_widgets": [
            "ff582901a0f64327912c9ba21b0028be",
            "cea6695a7b89477a8259889475ed0735",
            "71185a6312ea42dda8861a2df05b748b",
            "7d6e3674cc2c49ee8b63c806b09683a0",
            "65ac2859ce6c4b979abbc147c3616c7e",
            "81eaa298d7674fd3846494f5882d3d7c",
            "4a5ac678c61f404ba91dc43098ba5274",
            "a499d14d6d0e4a2fb078e96adc43ffbd",
            "ef040e43e12d4363b7078f0875a375c5",
            "62c11c23314744ef9a7da04cc793f460",
            "716bac00bb5d4c69b4f06bec4f9e51e1"
          ]
        },
        "outputId": "b1d9b090-53c6-4c4c-f9a4-a6fadade390d"
      },
      "execution_count": null,
      "outputs": [
        {
          "output_type": "display_data",
          "data": {
            "text/plain": [
              "  0%|          | 0/150 [00:00<?, ?it/s]"
            ],
            "application/vnd.jupyter.widget-view+json": {
              "version_major": 2,
              "version_minor": 0,
              "model_id": "ff582901a0f64327912c9ba21b0028be"
            }
          },
          "metadata": {}
        }
      ]
    },
    {
      "cell_type": "markdown",
      "source": [
        "4. Проверьте, что все работает ожидаемым образом, запустив ячейку ниже"
      ],
      "metadata": {
        "id": "JfVX0r9PsJEy"
      }
    },
    {
      "cell_type": "code",
      "source": [
        "plt.figure(figsize=(15, 8))\n",
        "\n",
        "# Отрисуем то, как менялись координаты в процессе поиска минимума\n",
        "plt.plot(history)\n",
        "\n",
        "plt.xlabel('Номер итерации')\n",
        "plt.ylabel('Значение аргумента на итерации')\n",
        "plt.show()"
      ],
      "metadata": {
        "id": "RCt9VpeFsPHU",
        "colab": {
          "base_uri": "https://localhost:8080/",
          "height": 497
        },
        "outputId": "82a658f8-eed3-4f65-f76e-5380d15af4c6"
      },
      "execution_count": null,
      "outputs": [
        {
          "output_type": "display_data",
          "data": {
            "text/plain": [
              "<Figure size 1080x576 with 1 Axes>"
            ],
            "image/png": "[encoded data removed]"
          },
          "metadata": {
            "needs_background": "light"
          }
        }
      ]
    },
    {
      "cell_type": "code",
      "source": [
        "history"
      ],
      "metadata": {
        "colab": {
          "base_uri": "https://localhost:8080/"
        },
        "id": "jg5zhuIVsb2x",
        "outputId": "30854b01-a81c-4278-bdc2-43cc2db8d2e6"
      },
      "execution_count": null,
      "outputs": [
        {
          "output_type": "execute_result",
          "data": {
            "text/plain": [
              "array([10.  ,  9.99,  9.98,  9.97,  9.96,  9.95,  9.94,  9.93,  9.92,\n",
              "        9.91,  9.9 ,  9.89,  9.88,  9.87,  9.86,  9.85,  9.84,  9.83,\n",
              "        9.82,  9.81,  9.8 ,  9.79,  9.78,  9.77,  9.76,  9.75,  9.74,\n",
              "        9.73,  9.72,  9.71,  9.7 ,  9.69,  9.68,  9.67,  9.66,  9.65,\n",
              "        9.64,  9.63,  9.62,  9.61,  9.6 ,  9.59,  9.58,  9.57,  9.56,\n",
              "        9.55,  9.54,  9.53,  9.52,  9.51,  9.5 ,  9.49,  9.48,  9.47,\n",
              "        9.46,  9.45,  9.44,  9.43,  9.42,  9.41,  9.4 ,  9.39,  9.38,\n",
              "        9.37,  9.36,  9.35,  9.34,  9.33,  9.32,  9.31,  9.3 ,  9.29,\n",
              "        9.28,  9.27,  9.26,  9.25,  9.24,  9.23,  9.22,  9.21,  9.2 ,\n",
              "        9.19,  9.18,  9.17,  9.16,  9.15,  9.14,  9.13,  9.12,  9.11,\n",
              "        9.1 ,  9.09,  9.08,  9.07,  9.06,  9.05,  9.04,  9.03,  9.02,\n",
              "        9.01,  9.  ,  8.99,  8.98,  8.97,  8.96,  8.95,  8.94,  8.93,\n",
              "        8.92,  8.91,  8.9 ,  8.89,  8.88,  8.87,  8.86,  8.85,  8.84,\n",
              "        8.83,  8.82,  8.81,  8.8 ,  8.79,  8.78,  8.77,  8.76,  8.75,\n",
              "        8.74,  8.73,  8.72,  8.71,  8.7 ,  8.69,  8.68,  8.67,  8.66,\n",
              "        8.65,  8.64,  8.63,  8.62,  8.61,  8.6 ,  8.59,  8.58,  8.57,\n",
              "        8.56,  8.55,  8.54,  8.53,  8.52,  8.51,  8.5 ])"
            ]
          },
          "metadata": {},
          "execution_count": 5
        }
      ]
    },
    {
      "cell_type": "markdown",
      "source": [
        "5. Реализовать поиск минимума при помощи алгоритма `RMSProp`. Реализуйте функцию `get_min_with_rmsprop(...)`, которая принимает на вход начальную точку $x_0$, число шагов, lr, $β$ и thershold; внутри себя производит поиск минимума при помощи градиентного спуска и возвращает последовательность точек, полученных на каждом шаге.\n",
        "\n",
        "Напомним как выглядят формулы для этого алгоритма:\n",
        "\n",
        "$$g^{n+1} = ∇f(w^{n})$$\n",
        "$$\\gamma^{n+1} = (1 - \\beta) \\gamma^{n} + \\beta (g^{n+1}) ^ 2$$\n",
        "$$w^{n+1} = w^n - \\frac{\\alpha}{\\sqrt{\\gamma^{n+1} + ɛ}}⋅g^{n+1}$$\n",
        "\n",
        "Здесь $α$ -- learning rate, $ɛ$ -- малое число (можно взять 0.0001 -- оно нужно, чтобы случайно не было деления на 0), $\\beta$ -- мера учета инерции"
      ],
      "metadata": {
        "id": "1Amo1vgzs8IJ"
      }
    },
    {
      "cell_type": "code",
      "source": [
        "def get_min_with_rmsprop(x0, f_gradient, alpha = 0.1, epsilon = 0.0001, beta = 0.1, n_iter = 170, threshold = 0.001):\n",
        "  w = x0\n",
        "  gamma = 0\n",
        "  history = [w]\n",
        "\n",
        "  for iter in tqdm(range(n_iter)):\n",
        "    gr = f_gradient(w)\n",
        "\n",
        "    gamma = (1 - beta) * gamma + beta * (gr ** 2)\n",
        "\n",
        "    w = w - alpha * gr / (gamma ** 0.5 + epsilon) \n",
        "\n",
        "    history.append(w)\n",
        "\n",
        "    if np.mean(abs(w - history[-2])) < threshold:\n",
        "        break\n",
        "\n",
        "  return np.array(history)"
      ],
      "metadata": {
        "id": "a-xtle1TvIud"
      },
      "execution_count": null,
      "outputs": []
    },
    {
      "cell_type": "code",
      "source": [
        "# Запустите поиск минимума с нескольких точек, например с 0 и 2\n",
        "\n",
        "history_rmsprop_1 = get_min_with_rmsprop(0.001, dy, alpha = 0.015, n_iter = 50)\n",
        "history_rmsprop_2 = get_min_with_rmsprop(2, dy, n_iter = 40)"
      ],
      "metadata": {
        "id": "3jKHYm8Pvm38",
        "colab": {
          "base_uri": "https://localhost:8080/",
          "height": 81,
          "referenced_widgets": [
            "3fa7835db40546fdb9dc1a1e911e7c47",
            "37680baa2f6c4ff3aac5b882616e190c",
            "ddd51d8ede1a46029fcb67348215a3c2",
            "640ea0f46be14ef1a8fd4808d7497102",
            "3767841ba4a74b5589117fc266ff1887",
            "98336d479f954227a2ed08b053e30bb9",
            "c8ec1f44dbca4560b1b6a5799a466219",
            "2544615be7ba42288e989f73f231a79d",
            "63bc506863364316bbb04704dd86215e",
            "29ea52002077455e96ae263e985abfda",
            "1908abe8dfd444859f5c126dc76b5dcb",
            "767a177d682d47f59a085441b3f4b05f",
            "c5223cdc7df64d02ba18299f72c43449",
            "9114e7fce6484c298ecbc1a4243ae59a",
            "cf99dd94bbc84c1c8da004dc3581d6be",
            "b8ea440d6e0c4e9f98e6500cb6f661c6",
            "5a3a5cb973484665900200f68c0281dd",
            "20cb9f0b658d4ca598a1b8d3fd5a3a22",
            "c3c633191fa74c2696d4d1b41979b831",
            "fe2ea0ff9d894cca8d58f0c577b8abec",
            "f37b71cd043c4e83a2d190505df05670",
            "95177a626e134c5db77ecb5580d4d1ae"
          ]
        },
        "outputId": "13bc1467-3c81-4cb2-84f4-736698adcff4"
      },
      "execution_count": null,
      "outputs": [
        {
          "output_type": "display_data",
          "data": {
            "text/plain": [
              "  0%|          | 0/50 [00:00<?, ?it/s]"
            ],
            "application/vnd.jupyter.widget-view+json": {
              "version_major": 2,
              "version_minor": 0,
              "model_id": "3fa7835db40546fdb9dc1a1e911e7c47"
            }
          },
          "metadata": {}
        },
        {
          "output_type": "display_data",
          "data": {
            "text/plain": [
              "  0%|          | 0/40 [00:00<?, ?it/s]"
            ],
            "application/vnd.jupyter.widget-view+json": {
              "version_major": 2,
              "version_minor": 0,
              "model_id": "767a177d682d47f59a085441b3f4b05f"
            }
          },
          "metadata": {}
        }
      ]
    },
    {
      "cell_type": "markdown",
      "source": [
        "6. Нарисовать график, на котором отображен реальный минимум функции и все точки, которые были получены на каждом шаге RMSProp алгоритма."
      ],
      "metadata": {
        "id": "ZMuyKAdDvd9Z"
      }
    },
    {
      "cell_type": "code",
      "source": [
        "# Ваш код тут\n",
        "\n",
        "def func(x):\n",
        "  return x ** 3 * np.log(x)\n",
        "\n",
        "fig = plt.figure(figsize=(30,8))\n",
        "\n",
        "ax = fig.add_subplot()\n",
        "\n",
        "plt.title('HURRAH, everything converged', size= 20)\n",
        "\n",
        "x = np.linspace(0.0001, 2.2, 300)\n",
        "\n",
        "minY = min(func(x))\n",
        "\n",
        "minX = x[np.where(func(x) == minY)]\n",
        "\n",
        "ax.plot(x, func(x), 'g-', linewidth = '9', label = 'LOSS Function')\n",
        "ax.plot(history_rmsprop_2, func(history_rmsprop_2), 'ro', label = 'RMSProp from point 2')\n",
        "ax.plot(history_rmsprop_1, func(history_rmsprop_1), 'yo', label = 'RMSProp from point 0.001')\n",
        "ax.plot(minX, minY, marker = '*', ms = 20, color = 'green', label = 'Cherished MIN')\n",
        "\n",
        "ax.legend(prop={'size': 20})\n",
        "fig.show()"
      ],
      "metadata": {
        "id": "2jq5RZbVv5E0",
        "colab": {
          "base_uri": "https://localhost:8080/",
          "height": 477
        },
        "outputId": "9ef2dc77-5b79-425d-8f02-5c219b6893cf"
      },
      "execution_count": null,
      "outputs": [
        {
          "output_type": "display_data",
          "data": {
            "text/plain": [
              "<Figure size 2160x576 with 1 Axes>"
            ],
            "image/png": "[encoded data removed]"
          },
          "metadata": {
            "needs_background": "light"
          }
        }
      ]
    },
    {
      "cell_type": "code",
      "source": [
        "history_rmsprop_1"
      ],
      "metadata": {
        "colab": {
          "base_uri": "https://localhost:8080/"
        },
        "id": "7XXxBUPkS_yb",
        "outputId": "78cf61b1-ea27-4750-9f6f-b60050056f06"
      },
      "execution_count": null,
      "outputs": [
        {
          "output_type": "execute_result",
          "data": {
            "text/plain": [
              "array([0.01      , 0.13682044, 0.29438501, 0.44192647, 0.56352863,\n",
              "       0.65016687, 0.6971314 , 0.71312157, 0.71618593, 0.71651521])"
            ]
          },
          "metadata": {},
          "execution_count": 76
        }
      ]
    },
    {
      "cell_type": "code",
      "source": [
        "history_rmsprop_2"
      ],
      "metadata": {
        "colab": {
          "base_uri": "https://localhost:8080/"
        },
        "id": "b9xlBeNprbem",
        "outputId": "ad7f8952-8185-4a54-cb52-f4b3da7ebf5a"
      },
      "execution_count": null,
      "outputs": [
        {
          "output_type": "execute_result",
          "data": {
            "text/plain": [
              "array([2.        , 1.68378035, 1.51679205, 1.40024146, 1.31054564,\n",
              "       1.23790289, 1.17718775, 1.12534679, 1.08039986, 1.04098353,\n",
              "       1.00611615, 0.975066  , 0.94727231, 0.92229536, 0.89978366,\n",
              "       0.87945151, 0.86106326, 0.84442192, 0.8293608 , 0.81573718,\n",
              "       0.80342745, 0.79232335, 0.782329  , 0.77335847, 0.76533389,\n",
              "       0.75818387, 0.75184222, 0.74624692, 0.74133932, 0.73706345,\n",
              "       0.73336557, 0.73019385, 0.72749813, 0.72522993, 0.72334243,\n",
              "       0.72179065, 0.72053168, 0.71952493, 0.71873246])"
            ]
          },
          "metadata": {},
          "execution_count": 77
        }
      ]
    }
  ]
}